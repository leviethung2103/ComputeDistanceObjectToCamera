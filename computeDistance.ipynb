{
 "cells": [
  {
   "cell_type": "markdown",
   "metadata": {},
   "source": [
    "## Capture the image from camera \n",
    "Save the captured image as `sample.png`"
   ]
  },
  {
   "cell_type": "code",
   "execution_count": null,
   "metadata": {},
   "outputs": [],
   "source": [
    "import cv2\n",
    "\n",
    "capture = cv2.VideoCapture(0)\n",
    "\n",
    "while True:\n",
    "    ret,img = capture.read()\n",
    "    \n",
    "    if not ret:\n",
    "        break\n",
    "    cv2.imshow(\"Camera\",img)\n",
    "    key = cv2.waitKey(1)\n",
    "    if key & 0xFF == ord('q'):\n",
    "        break\n",
    "    if key & 0xFF == ord('c'): # capture the image\n",
    "        cv2.imwrite('sample.png',img)\n",
    "capture.release()\n",
    "cv2.destroyAllWindows()"
   ]
  },
  {
   "cell_type": "markdown",
   "metadata": {},
   "source": [
    "## Find the Focal Length of Camera \n",
    "\n",
    "Focal length of camera: \n",
    "https://imaging.nikon.com/lineup/dslr/basics/19/01.htm\n",
    "\n",
    "12 mm -> 200mm\n",
    "\n",
    "12 mm: wide angle\n",
    "\n",
    "200mm: close angle\n"
   ]
  },
  {
   "cell_type": "code",
   "execution_count": null,
   "metadata": {},
   "outputs": [],
   "source": [
    "import numpy as np \n",
    "import cv2\n",
    "\n",
    "# Width of piece of A4 paper ~ 21 cm: 8.26772 inch\n",
    "# Known distance = 1 m ~ 39.3701 inch\n",
    "\n",
    "KNOWN_WIDTH = 8.26772\n",
    "KNOWN_DISTANCE = 39.3701\n",
    "image = cv2.imread('sample.png')\n",
    "\n",
    "def find_marker(image):\n",
    "    # convet the image to grayscale, blur it, and detect edges\n",
    "    gray = cv2.cvtColor(image, cv2.COLOR_BGR2GRAY)\n",
    "    gray = cv2.GaussianBlur(gray, (5, 5), 0)\n",
    "    edged = cv2.Canny(gray, 35, 125)\n",
    "\n",
    "    # find the contours in the edged image and keep the largest one;\n",
    "    # we'll assume that this is our piece of paper in the image\n",
    "    (cnts, _) = cv2.findContours(edged.copy(), cv2.RETR_LIST, cv2.CHAIN_APPROX_SIMPLE)\n",
    "    c = max(cnts, key = cv2.contourArea)\n",
    "    \n",
    "    # compute the bounding box of the paper region and return it\n",
    "    return cv2.minAreaRect(c)\n",
    "\n",
    "def find_focal_length_camera(P,D,W):\n",
    "    \"\"\"\n",
    "        Calculate the focal length of camera\n",
    "        f = (P x D)/ W\n",
    "            f: Focal length of camera\n",
    "            P: Width of object in camera (pixels)\n",
    "            D: Known distance from camera to piece of paper\n",
    "            W: Width of object (centimeters)\n",
    "    \"\"\"\n",
    "    focal_length = (P*D)/W\n",
    "    print (\"[INFO] Focal length of camera: {}\".format(focal_length))\n",
    "    return focal_length\n",
    "\n",
    "\n",
    "marker = find_marker(image)\n",
    "# Width of object in camera (pixels)\n",
    "P = marker[1][0]\n",
    "# Calculate the focal length of camera\n",
    "focal_length = find_focal_length_camera(P,KNOWN_DISTANCE,KNOWN_WIDTH)"
   ]
  },
  {
   "cell_type": "markdown",
   "metadata": {},
   "source": [
    "## Backup Step: Can not find the width pixel of object in camera?\n",
    "\n",
    "Manually measure the width of the piece in camera\n",
    "\n",
    "P = 296 (pixels)"
   ]
  },
  {
   "cell_type": "code",
   "execution_count": 1,
   "metadata": {},
   "outputs": [
    {
     "name": "stdout",
     "output_type": "stream",
     "text": [
      "[INFO] Focal length of camera: 761.9048540589183\n"
     ]
    }
   ],
   "source": [
    "# calculate again focal_length of camera\n",
    "\n",
    "KNOWN_WIDTH = 8.26772\n",
    "KNOWN_DISTANCE = 39.3701\n",
    "P = 160\n",
    "\n",
    "def find_focal_length_camera(P,D,W):\n",
    "    \"\"\"\n",
    "        Calculate the focal length of camera\n",
    "        f = (P x D)/ W\n",
    "            f: Focal length of camera\n",
    "            P: Width of object in camera (pixels)\n",
    "            D: Known distance from camera to piece of paper\n",
    "            W: Width of object (centimeters)\n",
    "    \"\"\"\n",
    "    focal_length = (P*D)/W\n",
    "    print (\"[INFO] Focal length of camera: {}\".format(focal_length))\n",
    "    return focal_length\n",
    "\n",
    "focal_length = find_focal_length_camera(P,KNOWN_DISTANCE,KNOWN_WIDTH)"
   ]
  },
  {
   "cell_type": "markdown",
   "metadata": {},
   "source": [
    "## Visualize the captured piece of paper after find Contours \n",
    "\n",
    "Sometimes, we cannot find the accurate bounding box (piece of paper) in the image\n",
    "\n",
    "We need to go to backup step."
   ]
  },
  {
   "cell_type": "code",
   "execution_count": null,
   "metadata": {},
   "outputs": [],
   "source": [
    "import numpy as np \n",
    "import cv2\n",
    "\n",
    "image = cv2.imread('sample.png')\n",
    "\n",
    "def show_object(image):\n",
    "    # convet the image to grayscale, blur it, and detect edges\n",
    "    gray = cv2.cvtColor(image, cv2.COLOR_BGR2GRAY)\n",
    "    gray = cv2.GaussianBlur(gray, (5, 5), 0)\n",
    "    edged = cv2.Canny(gray, 35, 125)\n",
    "\n",
    "    # find the contours in the edged image and keep the largest one;\n",
    "    # we'll assume that this is our piece of paper in the image\n",
    "    (cnts, _) = cv2.findContours(edged.copy(), cv2.RETR_LIST, cv2.CHAIN_APPROX_SIMPLE)\n",
    "    c = max(cnts, key = cv2.contourArea)\n",
    "    \n",
    "    # compute the bounding box of the paper region and return it\n",
    "    marker = cv2.minAreaRect(c)\n",
    "    \n",
    "    # draw a bounding box around the image and display it\n",
    "    box = np.int0(cv2.boxPoints(marker))\n",
    "    \n",
    "    cv2.drawContours(image, [box], -1, (0, 255, 0), 2)\n",
    "    cv2.imwrite('result.png',image)\n",
    "    cv2.imshow(\"image\", image)\n",
    "    key = cv2.waitKey(0)\n",
    "    if key & 0xFF == ord('q'):\n",
    "        return\n",
    "    cv2.destroyAllWindows()\n",
    "\n",
    "# run showing object\n",
    "show_object(image)"
   ]
  },
  {
   "cell_type": "markdown",
   "metadata": {},
   "source": [
    "## Real Testing with Camera\n",
    "\n",
    "Find the distance from face to camera"
   ]
  },
  {
   "cell_type": "code",
   "execution_count": 10,
   "metadata": {},
   "outputs": [
    {
     "data": {
      "text/html": [
       "<style>.container { width:70% !important; }</style>"
      ],
      "text/plain": [
       "<IPython.core.display.HTML object>"
      ]
     },
     "metadata": {},
     "output_type": "display_data"
    }
   ],
   "source": [
    "from IPython.core.display import display, HTML\n",
    "display(HTML(\"<style>.container { width:70% !important; }</style>\"))"
   ]
  },
  {
   "cell_type": "code",
   "execution_count": 8,
   "metadata": {},
   "outputs": [],
   "source": [
    "import cv2\n",
    "from maskDect.maskDetector import MaskDetector\n",
    "\n",
    "# Init Face Detector\n",
    "detector = MaskDetector('/mnt/49418012-cfa6-4af1-86d8-c0fb55ae6501/Gaze_Estimation/Gitlab_Code/src/graphs/face_mask_detection.params')\n",
    "\n",
    "# 13-14 cm\n",
    "WIDTH_FACE = 14 \n",
    "FOCAL_LENGTH = 761\n",
    "\n",
    "capture = cv2.VideoCapture(0)\n",
    "\n",
    "def distance_to_camera(knownWidth, focalLength, perWidth):\n",
    "    # compute and return the distance from the maker to the camera\n",
    "    return (knownWidth * focalLength) / perWidth\n",
    "\n",
    "while True:\n",
    "    ret,img = capture.read()\n",
    "    \n",
    "    if not ret:\n",
    "        break\n",
    "    \n",
    "    # face prediction\n",
    "    bboxes,confs, _ = detector.detect_face(img,target_shape=(260,260))\n",
    "    \n",
    "    # Visualize\n",
    "    if bboxes:\n",
    "        for index,box in enumerate(bboxes):\n",
    "            PIXEL_WIDTH_FACE = box[3] - box[1]\n",
    "            distance = distance_to_camera(WIDTH_FACE,FOCAL_LENGTH,PIXEL_WIDTH_FACE)\n",
    "            cv2.rectangle(img, (box[1], box[0]), (box[3], box[2]), (0,255,0), 2)\n",
    "            cv2.putText(img, \"%.2f cm\" % (distance),(int(box[1]),int(box[0]-10)), cv2.FONT_HERSHEY_SIMPLEX,\n",
    "        1.0, (0, 255, 0), 2)\n",
    "            \n",
    "    cv2.imshow(\"Camera\",img)\n",
    "    key = cv2.waitKey(1)\n",
    "    if key & 0xFF == ord('q'):\n",
    "        break\n",
    "    if key & 0xFF == ord('s'):\n",
    "        cv2.waitKey(0)\n",
    "        \n",
    "capture.release()\n",
    "cv2.destroyAllWindows()"
   ]
  },
  {
   "cell_type": "markdown",
   "metadata": {},
   "source": [
    "## Sample program"
   ]
  },
  {
   "cell_type": "code",
   "execution_count": null,
   "metadata": {},
   "outputs": [],
   "source": [
    "# import the necessary packages\n",
    "import numpy as np\n",
    "import cv2\n",
    "\n",
    "\n",
    "def find_marker(image):\n",
    "    # convet the image to grayscale, blur it, and detect edges\n",
    "    gray = cv2.cvtColor(image, cv2.COLOR_BGR2GRAY)\n",
    "    gray = cv2.GaussianBlur(gray, (5, 5), 0)\n",
    "    edged = cv2.Canny(gray, 35, 125)\n",
    "\n",
    "    # find the contours in the edged image and keep the largest one;\n",
    "    # we'll assume that this is our piece of paper in the image\n",
    "    (cnts, _) = cv2.findContours(edged.copy(), cv2.RETR_LIST, cv2.CHAIN_APPROX_SIMPLE)\n",
    "    c = max(cnts, key = cv2.contourArea)\n",
    "    \n",
    "    # compute the bounding box of the paper region and return it\n",
    "    return cv2.minAreaRect(c)\n",
    "\n",
    "def distance_to_camera(knownWidth, focalLength, perWidth):\n",
    "    # compute and return the distance from the maker to the camera\n",
    "    return (knownWidth * focalLength) / perWidth\n",
    "\n",
    "\n",
    "# initialize the known distance from the camera to the object, which\n",
    "# in this case is 24 inches\n",
    "KNOWN_DISTANCE = 24.0\n",
    "\n",
    "# initialize the known object width, which in this case, the piece of\n",
    "# paper is 12 inches wide\n",
    "KNOWN_WIDTH = 11.0\n",
    "\n",
    "# initialize the list of images that we'll be using\n",
    "IMAGE_PATHS = [\"images/1.png\", \"images/1.png\", \"images/3.png\"]\n",
    "\n",
    "# loop over the images\n",
    "for imagePath in IMAGE_PATHS:\n",
    "    # load the image, find the marker in the image, then compute the\n",
    "    # distance to the marker from the camera\n",
    "    image = cv2.imread(imagePath)\n",
    "    marker = find_marker(image)\n",
    "    inches = distance_to_camera(KNOWN_WIDTH, focalLength, marker[1][0])\n",
    "\n",
    "    # draw a bounding box around the image and display it\n",
    "    box = np.int0(cv2.cv.BoxPoints(marker))\n",
    "    cv2.drawContours(image, [box], -1, (0, 255, 0), 2)\n",
    "    cv2.putText(image, \"%.2fft\" % (inches / 12),\n",
    "        (image.shape[1] - 200, image.shape[0] - 20), cv2.FONT_HERSHEY_SIMPLEX,\n",
    "        2.0, (0, 255, 0), 3)\n",
    "    cv2.imshow(\"image\", image)\n",
    "    cv2.waitKey(0)"
   ]
  },
  {
   "cell_type": "code",
   "execution_count": null,
   "metadata": {},
   "outputs": [],
   "source": []
  }
 ],
 "metadata": {
  "kernelspec": {
   "display_name": "Python [conda env:tracker-hung] *",
   "language": "python",
   "name": "conda-env-tracker-hung-py"
  },
  "language_info": {
   "codemirror_mode": {
    "name": "ipython",
    "version": 3
   },
   "file_extension": ".py",
   "mimetype": "text/x-python",
   "name": "python",
   "nbconvert_exporter": "python",
   "pygments_lexer": "ipython3",
   "version": "3.7.0"
  }
 },
 "nbformat": 4,
 "nbformat_minor": 4
}
